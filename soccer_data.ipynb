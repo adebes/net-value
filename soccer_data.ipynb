{
 "cells": [
  {
   "cell_type": "markdown",
   "id": "d41e08c2",
   "metadata": {},
   "source": [
    "# Extract Data from [Football API](https://www.api-football.com/documentation-v3#tag/Players/operation/get-players)\n",
    "\n",
    "*See player_stats.py for details on functions used below*"
   ]
  },
  {
   "cell_type": "markdown",
   "id": "020959b2",
   "metadata": {},
   "source": [
    "## Create stats dataset for the following leagues"
   ]
  },
  {
   "cell_type": "code",
   "execution_count": null,
   "id": "36774128",
   "metadata": {},
   "outputs": [],
   "source": [
    "import player_stats\n",
    "# Leagues: Premier League, Serie A, La Liga, Bundesliga, Ligue 1, MLS, Eredivisie\n",
    "# Championship, Primeria Liga, Super Lig\n",
    "leagues = [\"39\"] # \"135\", \"140\", \"78\", \"61\", \"866\", \"88\", \"40\", \"94\", \"203\""
   ]
  },
  {
   "attachments": {},
   "cell_type": "markdown",
   "id": "a974e45a",
   "metadata": {},
   "source": [
    "### 1. Pull and save all necessary data from API\n",
    "\n",
    "The below code will save json files to the current directory called \"seasons.json\", \"teams.json\" and \"players.json\".\n",
    "\n",
    "Only call this funciton get/update the data in the saved files. This allows us to have access to the data locally without making multiple API calls each time we need the data."
   ]
  },
  {
   "cell_type": "code",
   "execution_count": null,
   "id": "5ec9ea7c",
   "metadata": {},
   "outputs": [],
   "source": [
    "###########################################\n",
    "#  RUN THIS ONCE TO UPDATE THE JSON FILES #\n",
    "###########################################\n",
    "\n",
    "player_stats.update_files(leagues)\n",
    "\n",
    "###########################################\n",
    "#  RUN THIS ONCE TO UPDATE THE JSON FILES #\n",
    "###########################################"
   ]
  },
  {
   "cell_type": "markdown",
   "id": "909419da",
   "metadata": {},
   "source": [
    "### 2. Load data"
   ]
  },
  {
   "cell_type": "code",
   "execution_count": null,
   "id": "473faffc",
   "metadata": {},
   "outputs": [],
   "source": [
    "import json\n",
    "\n",
    "# load seasons\n",
    "with open(\"seasons.json\", \"r\") as file:\n",
    "    seasons = file.readlines()\n",
    "    seasons = [year.strip(\"\\n\") for year in seasons]\n",
    "    \n",
    "# load teams\n",
    "# with open(\"teams.json\", \"r\") as file:\n",
    "#     teams = json.loads(file.read())\n",
    "\n",
    "# load players\n",
    "with open(\"players.json\", \"r\") as file:\n",
    "    players = json.loads(file.read())\n",
    "\n",
    "print(\"Num leagues:\", len(leagues))\n",
    "print(\"Num seasons:\", len(seasons))\n",
    "# print(\"Num teams per league and season:\", len(teams))\n",
    "print(\"Num players per league season:\", len(players))"
   ]
  },
  {
   "cell_type": "code",
   "execution_count": null,
   "id": "cf8af1a4",
   "metadata": {},
   "outputs": [],
   "source": []
  }
 ],
 "metadata": {
  "kernelspec": {
   "display_name": "Python 3 (ipykernel)",
   "language": "python",
   "name": "python3"
  },
  "language_info": {
   "codemirror_mode": {
    "name": "ipython",
    "version": 3
   },
   "file_extension": ".py",
   "mimetype": "text/x-python",
   "name": "python",
   "nbconvert_exporter": "python",
   "pygments_lexer": "ipython3",
   "version": "3.10.6"
  }
 },
 "nbformat": 4,
 "nbformat_minor": 5
}
